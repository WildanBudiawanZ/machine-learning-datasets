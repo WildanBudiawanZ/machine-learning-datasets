{
  "nbformat": 4,
  "nbformat_minor": 0,
  "metadata": {
    "colab": {
      "name": "Pertemuan 08 & 09.ipynb",
      "provenance": [],
      "collapsed_sections": [],
      "authorship_tag": "ABX9TyO30ZgZRCWYsCkDHqb3pvSh",
      "include_colab_link": true
    },
    "kernelspec": {
      "name": "python3",
      "display_name": "Python 3"
    },
    "language_info": {
      "name": "python"
    }
  },
  "cells": [
    {
      "cell_type": "markdown",
      "metadata": {
        "id": "view-in-github",
        "colab_type": "text"
      },
      "source": [
        "<a href=\"https://colab.research.google.com/github/WildanBudiawanZ/pembelajaran-mesin/blob/main/Pertemuan_08_%26_09.ipynb\" target=\"_parent\"><img src=\"https://colab.research.google.com/assets/colab-badge.svg\" alt=\"Open In Colab\"/></a>"
      ]
    },
    {
      "cell_type": "markdown",
      "source": [
        "# K-Means"
      ],
      "metadata": {
        "id": "AHGSmGo8OTqt"
      }
    },
    {
      "cell_type": "code",
      "execution_count": 5,
      "metadata": {
        "id": "ZoWxL3TdHreG"
      },
      "outputs": [],
      "source": [
        "import numpy as np\n",
        "import matplotlib.pyplot as plt\n",
        "import pandas as pd"
      ]
    },
    {
      "cell_type": "code",
      "source": [
        "url = 'https://github.com/WildanBudiawanZ/pembelajaran-mesin/raw/main/Customer.csv'\n",
        "dataset = pd.read_csv(url, sep=',')\n",
        "\n",
        "dataset.head()"
      ],
      "metadata": {
        "colab": {
          "base_uri": "https://localhost:8080/",
          "height": 206
        },
        "id": "9HtS6euEOch0",
        "outputId": "07d3b4e9-fad8-4c87-c972-b0001a25b1a5"
      },
      "execution_count": 6,
      "outputs": [
        {
          "output_type": "execute_result",
          "data": {
            "text/plain": [
              "   IDPelanggan    Kelamin  Usia  Rating_belanja (1-100)  Pendapatan (juta Rp)\n",
              "0            1  Perempuan    23                      87                    29\n",
              "1            2       Laki    60                       4                    30\n",
              "2            3  Perempuan    21                      73                    30\n",
              "3            4       Laki    53                       4                    33\n",
              "4            5       Laki    18                      92                    33"
            ],
            "text/html": [
              "\n",
              "  <div id=\"df-afbd9bcf-0235-4846-9aa1-4c3e7f838c3d\">\n",
              "    <div class=\"colab-df-container\">\n",
              "      <div>\n",
              "<style scoped>\n",
              "    .dataframe tbody tr th:only-of-type {\n",
              "        vertical-align: middle;\n",
              "    }\n",
              "\n",
              "    .dataframe tbody tr th {\n",
              "        vertical-align: top;\n",
              "    }\n",
              "\n",
              "    .dataframe thead th {\n",
              "        text-align: right;\n",
              "    }\n",
              "</style>\n",
              "<table border=\"1\" class=\"dataframe\">\n",
              "  <thead>\n",
              "    <tr style=\"text-align: right;\">\n",
              "      <th></th>\n",
              "      <th>IDPelanggan</th>\n",
              "      <th>Kelamin</th>\n",
              "      <th>Usia</th>\n",
              "      <th>Rating_belanja (1-100)</th>\n",
              "      <th>Pendapatan (juta Rp)</th>\n",
              "    </tr>\n",
              "  </thead>\n",
              "  <tbody>\n",
              "    <tr>\n",
              "      <th>0</th>\n",
              "      <td>1</td>\n",
              "      <td>Perempuan</td>\n",
              "      <td>23</td>\n",
              "      <td>87</td>\n",
              "      <td>29</td>\n",
              "    </tr>\n",
              "    <tr>\n",
              "      <th>1</th>\n",
              "      <td>2</td>\n",
              "      <td>Laki</td>\n",
              "      <td>60</td>\n",
              "      <td>4</td>\n",
              "      <td>30</td>\n",
              "    </tr>\n",
              "    <tr>\n",
              "      <th>2</th>\n",
              "      <td>3</td>\n",
              "      <td>Perempuan</td>\n",
              "      <td>21</td>\n",
              "      <td>73</td>\n",
              "      <td>30</td>\n",
              "    </tr>\n",
              "    <tr>\n",
              "      <th>3</th>\n",
              "      <td>4</td>\n",
              "      <td>Laki</td>\n",
              "      <td>53</td>\n",
              "      <td>4</td>\n",
              "      <td>33</td>\n",
              "    </tr>\n",
              "    <tr>\n",
              "      <th>4</th>\n",
              "      <td>5</td>\n",
              "      <td>Laki</td>\n",
              "      <td>18</td>\n",
              "      <td>92</td>\n",
              "      <td>33</td>\n",
              "    </tr>\n",
              "  </tbody>\n",
              "</table>\n",
              "</div>\n",
              "      <button class=\"colab-df-convert\" onclick=\"convertToInteractive('df-afbd9bcf-0235-4846-9aa1-4c3e7f838c3d')\"\n",
              "              title=\"Convert this dataframe to an interactive table.\"\n",
              "              style=\"display:none;\">\n",
              "        \n",
              "  <svg xmlns=\"http://www.w3.org/2000/svg\" height=\"24px\"viewBox=\"0 0 24 24\"\n",
              "       width=\"24px\">\n",
              "    <path d=\"M0 0h24v24H0V0z\" fill=\"none\"/>\n",
              "    <path d=\"M18.56 5.44l.94 2.06.94-2.06 2.06-.94-2.06-.94-.94-2.06-.94 2.06-2.06.94zm-11 1L8.5 8.5l.94-2.06 2.06-.94-2.06-.94L8.5 2.5l-.94 2.06-2.06.94zm10 10l.94 2.06.94-2.06 2.06-.94-2.06-.94-.94-2.06-.94 2.06-2.06.94z\"/><path d=\"M17.41 7.96l-1.37-1.37c-.4-.4-.92-.59-1.43-.59-.52 0-1.04.2-1.43.59L10.3 9.45l-7.72 7.72c-.78.78-.78 2.05 0 2.83L4 21.41c.39.39.9.59 1.41.59.51 0 1.02-.2 1.41-.59l7.78-7.78 2.81-2.81c.8-.78.8-2.07 0-2.86zM5.41 20L4 18.59l7.72-7.72 1.47 1.35L5.41 20z\"/>\n",
              "  </svg>\n",
              "      </button>\n",
              "      \n",
              "  <style>\n",
              "    .colab-df-container {\n",
              "      display:flex;\n",
              "      flex-wrap:wrap;\n",
              "      gap: 12px;\n",
              "    }\n",
              "\n",
              "    .colab-df-convert {\n",
              "      background-color: #E8F0FE;\n",
              "      border: none;\n",
              "      border-radius: 50%;\n",
              "      cursor: pointer;\n",
              "      display: none;\n",
              "      fill: #1967D2;\n",
              "      height: 32px;\n",
              "      padding: 0 0 0 0;\n",
              "      width: 32px;\n",
              "    }\n",
              "\n",
              "    .colab-df-convert:hover {\n",
              "      background-color: #E2EBFA;\n",
              "      box-shadow: 0px 1px 2px rgba(60, 64, 67, 0.3), 0px 1px 3px 1px rgba(60, 64, 67, 0.15);\n",
              "      fill: #174EA6;\n",
              "    }\n",
              "\n",
              "    [theme=dark] .colab-df-convert {\n",
              "      background-color: #3B4455;\n",
              "      fill: #D2E3FC;\n",
              "    }\n",
              "\n",
              "    [theme=dark] .colab-df-convert:hover {\n",
              "      background-color: #434B5C;\n",
              "      box-shadow: 0px 1px 3px 1px rgba(0, 0, 0, 0.15);\n",
              "      filter: drop-shadow(0px 1px 2px rgba(0, 0, 0, 0.3));\n",
              "      fill: #FFFFFF;\n",
              "    }\n",
              "  </style>\n",
              "\n",
              "      <script>\n",
              "        const buttonEl =\n",
              "          document.querySelector('#df-afbd9bcf-0235-4846-9aa1-4c3e7f838c3d button.colab-df-convert');\n",
              "        buttonEl.style.display =\n",
              "          google.colab.kernel.accessAllowed ? 'block' : 'none';\n",
              "\n",
              "        async function convertToInteractive(key) {\n",
              "          const element = document.querySelector('#df-afbd9bcf-0235-4846-9aa1-4c3e7f838c3d');\n",
              "          const dataTable =\n",
              "            await google.colab.kernel.invokeFunction('convertToInteractive',\n",
              "                                                     [key], {});\n",
              "          if (!dataTable) return;\n",
              "\n",
              "          const docLinkHtml = 'Like what you see? Visit the ' +\n",
              "            '<a target=\"_blank\" href=https://colab.research.google.com/notebooks/data_table.ipynb>data table notebook</a>'\n",
              "            + ' to learn more about interactive tables.';\n",
              "          element.innerHTML = '';\n",
              "          dataTable['output_type'] = 'display_data';\n",
              "          await google.colab.output.renderOutput(dataTable, element);\n",
              "          const docLink = document.createElement('div');\n",
              "          docLink.innerHTML = docLinkHtml;\n",
              "          element.appendChild(docLink);\n",
              "        }\n",
              "      </script>\n",
              "    </div>\n",
              "  </div>\n",
              "  "
            ]
          },
          "metadata": {},
          "execution_count": 6
        }
      ]
    },
    {
      "cell_type": "code",
      "source": [
        "X = dataset.iloc[:, [2,3,4]].values\n",
        " \n",
        "print (X)"
      ],
      "metadata": {
        "colab": {
          "base_uri": "https://localhost:8080/"
        },
        "id": "aZqVc-QpOnBS",
        "outputId": "65f69e48-4bc3-4d6d-edd1-09ecd7b13b8d"
      },
      "execution_count": 3,
      "outputs": [
        {
          "output_type": "stream",
          "name": "stdout",
          "text": [
            "[[ 23  87  29]\n",
            " [ 60   4  30]\n",
            " [ 21  73  30]\n",
            " [ 53   4  33]\n",
            " [ 18  92  33]\n",
            " [ 49  14  33]\n",
            " [ 21  81  33]\n",
            " [ 42  17  34]\n",
            " [ 30  73  34]\n",
            " [ 36  26  37]\n",
            " [ 20  75  37]\n",
            " [ 65  35  38]\n",
            " [ 24  92  38]\n",
            " [ 48  36  39]\n",
            " [ 31  61  39]\n",
            " [ 49  28  39]\n",
            " [ 24  65  39]\n",
            " [ 50  55  40]\n",
            " [ 27  47  40]\n",
            " [ 19  39  15]\n",
            " [ 21  81  15]\n",
            " [ 20   6  16]\n",
            " [ 23  77  16]\n",
            " [ 31  40  17]\n",
            " [ 22  76  17]\n",
            " [ 35   6  18]\n",
            " [ 23  94  18]\n",
            " [ 64   3  19]\n",
            " [ 30  72  19]\n",
            " [ 67  14  19]\n",
            " [ 35  99  19]\n",
            " [ 58  15  20]\n",
            " [ 24  77  20]\n",
            " [ 37  13  20]\n",
            " [ 22  79  20]\n",
            " [ 35  35  21]\n",
            " [ 20  66  21]\n",
            " [ 52  29  23]\n",
            " [ 35  98  23]\n",
            " [ 35  35  24]\n",
            " [ 25  73  24]\n",
            " [ 46   5  25]\n",
            " [ 31  73  25]\n",
            " [ 54  14  28]\n",
            " [ 29  82  28]\n",
            " [ 45  32  28]\n",
            " [ 35  61  28]\n",
            " [ 40  31  29]\n",
            " [ 29  42  40]\n",
            " [ 31  42  40]\n",
            " [ 49  52  42]\n",
            " [ 33  60  42]\n",
            " [ 31  54  43]\n",
            " [ 59  60  43]\n",
            " [ 50  45  43]\n",
            " [ 47  41  43]\n",
            " [ 51  50  44]\n",
            " [ 69  46  44]\n",
            " [ 27  51  46]\n",
            " [ 53  46  46]\n",
            " [ 70  56  46]\n",
            " [ 19  55  46]\n",
            " [ 67  52  47]\n",
            " [ 54  59  47]\n",
            " [ 63  51  48]\n",
            " [ 18  59  48]\n",
            " [ 43  50  48]\n",
            " [ 68  48  48]\n",
            " [ 19  59  48]\n",
            " [ 32  47  48]\n",
            " [ 70  55  49]\n",
            " [ 47  42  49]\n",
            " [ 60  49  50]\n",
            " [ 60  56  50]\n",
            " [ 59  47  54]\n",
            " [ 26  54  54]\n",
            " [ 45  53  54]\n",
            " [ 40  48  54]\n",
            " [ 23  52  54]\n",
            " [ 49  42  54]\n",
            " [ 57  51  54]\n",
            " [ 38  55  54]\n",
            " [ 67  41  54]\n",
            " [ 46  44  54]\n",
            " [ 21  57  54]\n",
            " [ 48  46  54]\n",
            " [ 55  58  57]\n",
            " [ 22  55  57]\n",
            " [ 34  60  58]\n",
            " [ 50  46  58]\n",
            " [ 68  55  59]\n",
            " [ 18  41  59]\n",
            " [ 48  49  60]\n",
            " [ 40  40  60]\n",
            " [ 32  42  60]\n",
            " [ 24  52  60]\n",
            " [ 47  47  60]\n",
            " [ 27  50  60]\n",
            " [ 48  42  61]\n",
            " [ 20  49  61]\n",
            " [ 23  41  62]\n",
            " [ 49  48  62]\n",
            " [ 67  59  62]\n",
            " [ 26  55  62]\n",
            " [ 49  56  62]\n",
            " [ 21  42  62]\n",
            " [ 66  50  63]\n",
            " [ 54  46  63]\n",
            " [ 68  43  63]\n",
            " [ 66  48  63]\n",
            " [ 65  52  63]\n",
            " [ 19  54  63]\n",
            " [ 38  42  64]\n",
            " [ 19  46  64]\n",
            " [ 18  48  65]\n",
            " [ 19  50  65]\n",
            " [ 63  43  65]\n",
            " [ 49  59  65]\n",
            " [ 51  43  67]\n",
            " [ 50  57  67]\n",
            " [ 27  56  67]\n",
            " [ 38  40  67]\n",
            " [ 40  58  69]\n",
            " [ 39  91  69]\n",
            " [ 23  29  70]\n",
            " [ 31  77  70]\n",
            " [ 43  35  71]\n",
            " [ 40  95  71]\n",
            " [ 59  11  71]\n",
            " [ 38  75  71]\n",
            " [ 47   9  71]\n",
            " [ 39  75  71]\n",
            " [ 25  34  72]\n",
            " [ 31  71  72]\n",
            " [ 20   5  73]\n",
            " [ 29  88  73]\n",
            " [ 44   7  73]\n",
            " [ 32  73  73]\n",
            " [ 19  10  74]\n",
            " [ 58  15  88]\n",
            " [ 27  69  88]\n",
            " [ 59  14  93]\n",
            " [ 35  90  93]\n",
            " [ 37  32  97]\n",
            " [ 32  86  97]\n",
            " [ 46  15  98]\n",
            " [ 29  88  98]\n",
            " [ 41  39  99]\n",
            " [ 30  97  99]\n",
            " [ 54  24 101]\n",
            " [ 28  68 101]\n",
            " [ 41  17 103]\n",
            " [ 36  85 103]\n",
            " [ 34  23 103]\n",
            " [ 32  69 103]\n",
            " [ 33   8 113]\n",
            " [ 38  91 113]\n",
            " [ 47  16 120]\n",
            " [ 35  79 120]\n",
            " [ 45  28 126]\n",
            " [ 32  74 126]\n",
            " [ 32  18 137]\n",
            " [ 30  83 137]\n",
            " [ 35  72  74]\n",
            " [ 57   5  75]\n",
            " [ 32  93  75]\n",
            " [ 28  40  76]\n",
            " [ 32  87  76]\n",
            " [ 25  12  77]\n",
            " [ 28  97  77]\n",
            " [ 48  36  77]\n",
            " [ 32  74  77]\n",
            " [ 34  22  78]\n",
            " [ 34  90  78]\n",
            " [ 43  17  78]\n",
            " [ 39  88  78]\n",
            " [ 44  20  78]\n",
            " [ 38  76  78]\n",
            " [ 47  16  78]\n",
            " [ 27  89  78]\n",
            " [ 37   1  78]\n",
            " [ 30  78  78]\n",
            " [ 34   1  78]\n",
            " [ 30  73  78]\n",
            " [ 56  35  79]\n",
            " [ 29  83  79]\n",
            " [ 19   5  81]\n",
            " [ 31  93  81]\n",
            " [ 50  26  85]\n",
            " [ 36  75  85]\n",
            " [ 42  20  86]\n",
            " [ 33  95  86]\n",
            " [ 36  27  87]\n",
            " [ 32  63  87]\n",
            " [ 40  13  87]\n",
            " [ 28  75  87]\n",
            " [ 36  10  87]\n",
            " [ 36  92  87]\n",
            " [ 52  13  88]\n",
            " [ 30  86  88]]\n"
          ]
        }
      ]
    },
    {
      "cell_type": "code",
      "source": [
        "# Menggunakan metode elbow untuk menentukan angka cluster yang tepat\n",
        "from sklearn.cluster import KMeans\n",
        "wcss = []\n",
        "for i in range(1, 11):\n",
        "    kmeans = KMeans(n_clusters = i, init = 'k-means++', random_state = 42)\n",
        "    kmeans.fit(X)\n",
        "    wcss.append(kmeans.inertia_)\n",
        "\n",
        "print (\"WCSS Value: \", wcss)\n",
        "plt.plot(range(1, 11), wcss)\n",
        "plt.title('Elbow Method')\n",
        "plt.xlabel('Cluster Number')\n",
        "plt.ylabel('WCSS')\n",
        "plt.show()\n",
        "\n",
        "# Menjalankan K-Means Clustering ke dataset\n",
        "kmeans = KMeans(n_clusters = 2, init = 'k-means++', random_state = 42)\n",
        "y_kmeans = kmeans.fit_predict(X)\n",
        " \n",
        "# Visualisasi hasil clusters\n",
        "plt.scatter(X[y_kmeans == 0, 0], X[y_kmeans == 0, 1], s = 100, c = 'blue', label = 'Cluster 1')\n",
        "plt.scatter(X[y_kmeans == 1, 0], X[y_kmeans == 1, 1], s = 100, c = 'red', label = 'Cluster 2')\n",
        "plt.scatter(kmeans.cluster_centers_[:, 0], kmeans.cluster_centers_[:, 1], s = 300, c = 'yellow', label = 'Centroids')\n",
        "plt.title('Consumers Cluster')\n",
        "plt.xlabel('Yearly Salary')\n",
        "plt.ylabel('Yearly expense rating (1-100)')\n",
        "plt.legend()\n",
        "plt.show()"
      ],
      "metadata": {
        "colab": {
          "base_uri": "https://localhost:8080/",
          "height": 610
        },
        "id": "lgbXkreROyP4",
        "outputId": "2ade54a5-fa90-462d-b069-273c2351cd77"
      },
      "execution_count": 15,
      "outputs": [
        {
          "output_type": "stream",
          "name": "stdout",
          "text": [
            "WCSS Value:  [308812.78, 212840.16982097185, 143342.75157170603, 104366.15145556198, 75350.77917248775, 58300.443321590676, 51096.62442155546, 44638.06506151742, 41537.58467078899, 37882.831661856646]\n"
          ]
        },
        {
          "output_type": "display_data",
          "data": {
            "text/plain": [
              "<Figure size 432x288 with 1 Axes>"
            ],
            "image/png": "[encoded data removed]"
          },
          "metadata": {
            "needs_background": "light"
          }
        },
        {
          "output_type": "display_data",
          "data": {
            "text/plain": [
              "<Figure size 432x288 with 1 Axes>"
            ],
            "image/png": "[encoded data removed]"
          },
          "metadata": {
            "needs_background": "light"
          }
        }
      ]
    },
    {
      "cell_type": "code",
      "source": [
        "data = pd.DataFrame(dataset, columns =['Usia', 'Rating_belanja (1-100)', 'Pendapatan (juta Rp)'])\n",
        "data[\"Clusters\"] = y_kmeans\n",
        "\n",
        "data.to_csv('DataDalamKlaster.csv', index=False)\n",
        "\n",
        "data.head()"
      ],
      "metadata": {
        "colab": {
          "base_uri": "https://localhost:8080/",
          "height": 206
        },
        "id": "JVwKv1IrPk0g",
        "outputId": "ca6635d3-3007-41af-d3ce-097824fe84fa"
      },
      "execution_count": 8,
      "outputs": [
        {
          "output_type": "execute_result",
          "data": {
            "text/plain": [
              "   Usia  Rating_belanja (1-100)  Pendapatan (juta Rp)  Clusters\n",
              "0    23                      87                    29         1\n",
              "1    60                       4                    30         0\n",
              "2    21                      73                    30         1\n",
              "3    53                       4                    33         0\n",
              "4    18                      92                    33         1"
            ],
            "text/html": [
              "\n",
              "  <div id=\"df-b32fdd00-35d5-4619-b977-05ec8fe44a1b\">\n",
              "    <div class=\"colab-df-container\">\n",
              "      <div>\n",
              "<style scoped>\n",
              "    .dataframe tbody tr th:only-of-type {\n",
              "        vertical-align: middle;\n",
              "    }\n",
              "\n",
              "    .dataframe tbody tr th {\n",
              "        vertical-align: top;\n",
              "    }\n",
              "\n",
              "    .dataframe thead th {\n",
              "        text-align: right;\n",
              "    }\n",
              "</style>\n",
              "<table border=\"1\" class=\"dataframe\">\n",
              "  <thead>\n",
              "    <tr style=\"text-align: right;\">\n",
              "      <th></th>\n",
              "      <th>Usia</th>\n",
              "      <th>Rating_belanja (1-100)</th>\n",
              "      <th>Pendapatan (juta Rp)</th>\n",
              "      <th>Clusters</th>\n",
              "    </tr>\n",
              "  </thead>\n",
              "  <tbody>\n",
              "    <tr>\n",
              "      <th>0</th>\n",
              "      <td>23</td>\n",
              "      <td>87</td>\n",
              "      <td>29</td>\n",
              "      <td>1</td>\n",
              "    </tr>\n",
              "    <tr>\n",
              "      <th>1</th>\n",
              "      <td>60</td>\n",
              "      <td>4</td>\n",
              "      <td>30</td>\n",
              "      <td>0</td>\n",
              "    </tr>\n",
              "    <tr>\n",
              "      <th>2</th>\n",
              "      <td>21</td>\n",
              "      <td>73</td>\n",
              "      <td>30</td>\n",
              "      <td>1</td>\n",
              "    </tr>\n",
              "    <tr>\n",
              "      <th>3</th>\n",
              "      <td>53</td>\n",
              "      <td>4</td>\n",
              "      <td>33</td>\n",
              "      <td>0</td>\n",
              "    </tr>\n",
              "    <tr>\n",
              "      <th>4</th>\n",
              "      <td>18</td>\n",
              "      <td>92</td>\n",
              "      <td>33</td>\n",
              "      <td>1</td>\n",
              "    </tr>\n",
              "  </tbody>\n",
              "</table>\n",
              "</div>\n",
              "      <button class=\"colab-df-convert\" onclick=\"convertToInteractive('df-b32fdd00-35d5-4619-b977-05ec8fe44a1b')\"\n",
              "              title=\"Convert this dataframe to an interactive table.\"\n",
              "              style=\"display:none;\">\n",
              "        \n",
              "  <svg xmlns=\"http://www.w3.org/2000/svg\" height=\"24px\"viewBox=\"0 0 24 24\"\n",
              "       width=\"24px\">\n",
              "    <path d=\"M0 0h24v24H0V0z\" fill=\"none\"/>\n",
              "    <path d=\"M18.56 5.44l.94 2.06.94-2.06 2.06-.94-2.06-.94-.94-2.06-.94 2.06-2.06.94zm-11 1L8.5 8.5l.94-2.06 2.06-.94-2.06-.94L8.5 2.5l-.94 2.06-2.06.94zm10 10l.94 2.06.94-2.06 2.06-.94-2.06-.94-.94-2.06-.94 2.06-2.06.94z\"/><path d=\"M17.41 7.96l-1.37-1.37c-.4-.4-.92-.59-1.43-.59-.52 0-1.04.2-1.43.59L10.3 9.45l-7.72 7.72c-.78.78-.78 2.05 0 2.83L4 21.41c.39.39.9.59 1.41.59.51 0 1.02-.2 1.41-.59l7.78-7.78 2.81-2.81c.8-.78.8-2.07 0-2.86zM5.41 20L4 18.59l7.72-7.72 1.47 1.35L5.41 20z\"/>\n",
              "  </svg>\n",
              "      </button>\n",
              "      \n",
              "  <style>\n",
              "    .colab-df-container {\n",
              "      display:flex;\n",
              "      flex-wrap:wrap;\n",
              "      gap: 12px;\n",
              "    }\n",
              "\n",
              "    .colab-df-convert {\n",
              "      background-color: #E8F0FE;\n",
              "      border: none;\n",
              "      border-radius: 50%;\n",
              "      cursor: pointer;\n",
              "      display: none;\n",
              "      fill: #1967D2;\n",
              "      height: 32px;\n",
              "      padding: 0 0 0 0;\n",
              "      width: 32px;\n",
              "    }\n",
              "\n",
              "    .colab-df-convert:hover {\n",
              "      background-color: #E2EBFA;\n",
              "      box-shadow: 0px 1px 2px rgba(60, 64, 67, 0.3), 0px 1px 3px 1px rgba(60, 64, 67, 0.15);\n",
              "      fill: #174EA6;\n",
              "    }\n",
              "\n",
              "    [theme=dark] .colab-df-convert {\n",
              "      background-color: #3B4455;\n",
              "      fill: #D2E3FC;\n",
              "    }\n",
              "\n",
              "    [theme=dark] .colab-df-convert:hover {\n",
              "      background-color: #434B5C;\n",
              "      box-shadow: 0px 1px 3px 1px rgba(0, 0, 0, 0.15);\n",
              "      filter: drop-shadow(0px 1px 2px rgba(0, 0, 0, 0.3));\n",
              "      fill: #FFFFFF;\n",
              "    }\n",
              "  </style>\n",
              "\n",
              "      <script>\n",
              "        const buttonEl =\n",
              "          document.querySelector('#df-b32fdd00-35d5-4619-b977-05ec8fe44a1b button.colab-df-convert');\n",
              "        buttonEl.style.display =\n",
              "          google.colab.kernel.accessAllowed ? 'block' : 'none';\n",
              "\n",
              "        async function convertToInteractive(key) {\n",
              "          const element = document.querySelector('#df-b32fdd00-35d5-4619-b977-05ec8fe44a1b');\n",
              "          const dataTable =\n",
              "            await google.colab.kernel.invokeFunction('convertToInteractive',\n",
              "                                                     [key], {});\n",
              "          if (!dataTable) return;\n",
              "\n",
              "          const docLinkHtml = 'Like what you see? Visit the ' +\n",
              "            '<a target=\"_blank\" href=https://colab.research.google.com/notebooks/data_table.ipynb>data table notebook</a>'\n",
              "            + ' to learn more about interactive tables.';\n",
              "          element.innerHTML = '';\n",
              "          dataTable['output_type'] = 'display_data';\n",
              "          await google.colab.output.renderOutput(dataTable, element);\n",
              "          const docLink = document.createElement('div');\n",
              "          docLink.innerHTML = docLinkHtml;\n",
              "          element.appendChild(docLink);\n",
              "        }\n",
              "      </script>\n",
              "    </div>\n",
              "  </div>\n",
              "  "
            ]
          },
          "metadata": {},
          "execution_count": 8
        }
      ]
    },
    {
      "cell_type": "code",
      "source": [
        "import seaborn as sns\n",
        "sns.countplot(data[\"Clusters\"])\n",
        "data['Clusters'].value_counts()"
      ],
      "metadata": {
        "colab": {
          "base_uri": "https://localhost:8080/",
          "height": 389
        },
        "id": "ib29puYdPnsj",
        "outputId": "df8ef3be-65de-403d-ba57-4fce564e8465"
      },
      "execution_count": 9,
      "outputs": [
        {
          "output_type": "stream",
          "name": "stderr",
          "text": [
            "/usr/local/lib/python3.7/dist-packages/seaborn/_decorators.py:43: FutureWarning: Pass the following variable as a keyword arg: x. From version 0.12, the only valid positional argument will be `data`, and passing other arguments without an explicit keyword will result in an error or misinterpretation.\n",
            "  FutureWarning\n"
          ]
        },
        {
          "output_type": "execute_result",
          "data": {
            "text/plain": [
              "0    115\n",
              "1     85\n",
              "Name: Clusters, dtype: int64"
            ]
          },
          "metadata": {},
          "execution_count": 9
        },
        {
          "output_type": "display_data",
          "data": {
            "text/plain": [
              "<Figure size 432x288 with 1 Axes>"
            ],
            "image/png": "[encoded data removed]"
          },
          "metadata": {
            "needs_background": "light"
          }
        }
      ]
    },
    {
      "cell_type": "markdown",
      "source": [
        "Berdasarkan Elbow method, jumlah klaster terbaik yang terbentuk adalah 2 klaster. Kedua klaster ini berkelompok berdasarkan kemiripan berdasarkan Usia, Rating Belanja, dan Gaji. Kedua klaster tersebut memiliki penyebaran yang cukup terpisah dengan baik dan tidak banyak data yang bercampur antar klasternya.\n",
        "\n",
        "Klaster pertama (0 - Biru) penyebarannya tidak cukup compact/ padat, yang menunjukkan kemiripan antar data tidak terlalu dekat, sedangkan Klaster kedua (1 - Merah) datanya berkumpul dengan cukup compact. Bila dilihat dari kelompok data yang terbentuk pada setiap klaster, hal yang menarik antara lain:\n",
        "\n",
        "Klaster Pertama adalah kelompok pembeli yang memiliki usia rata-rata 46,2 tahun, sedangkan Klaster Kedua adalah pembeli dengan rata-rata usia pembeli adalah 28,9 tahun.\n",
        "Klaster Pertama ternyata memiliki rating belanja yang tidak begitu tinggi, sekitar 32,9 rating belanjannya, hal ini juga selaras dengan rata-rata Pendapatan 59.4 Juta. Sedangkan, Klaster Kedua tingkat belanja pembeli cukup tinggi dengan rating belanja sekitar 73.62 dan rata-rata pendapatan yang lebih tinggi dibanding Klaster Pertama, yaitu 62.2 Juta.\n",
        "Hasil klaster tersebut dapat menunjukkan bahwa target pasar yang paling menjanjikan adalah generasi sekitar usia kurang lebih 29 tahun. Dalam hal ini, pihak Departement Store menyediakan produk-produk dan promo-promo yang sesuai dan disukai oleh pembeli pada usia tersebut. Kemudian, Departement Store perlu menyediakan produk, promo, maupun fasilitas untuk meningkatkan rating belanja bagi pembeli yang berusia sekitar 46 tahun.\n",
        "Hasil klaster ini juga dapat menunjukkan tingkat kebutuhan atau gaya hidup (belanja) dari para pembeli. Terlihat bahwa semakin matang usia semakin berbelanja sesuai kebutuhan (tidak terlalu banyak belanja) dibandingkan yang usianya relatif masih muda. Dari sisi pendapatan pun, lebih tinggi pada usia-usia yang lebih produktif."
      ],
      "metadata": {
        "id": "tXMjRCH4P7E3"
      }
    },
    {
      "cell_type": "markdown",
      "source": [
        "# Hierarchical Clustering"
      ],
      "metadata": {
        "id": "aUehp2n1QoYN"
      }
    },
    {
      "cell_type": "code",
      "source": [
        "import scipy.cluster.hierarchy as sch\n",
        "dendrogram = sch.dendrogram(sch.linkage(X, method = 'ward'))\n",
        "plt.title('Dendrogram')\n",
        "plt.xlabel('Konsumen')\n",
        "plt.ylabel('Euclidean Distance')\n",
        "plt.show()\n"
      ],
      "metadata": {
        "colab": {
          "base_uri": "https://localhost:8080/",
          "height": 295
        },
        "id": "qhYaEL8AQrVX",
        "outputId": "e2554dca-9877-4b5e-e359-194b38de157c"
      },
      "execution_count": 11,
      "outputs": [
        {
          "output_type": "display_data",
          "data": {
            "text/plain": [
              "<Figure size 432x288 with 1 Axes>"
            ],
            "image/png": "[encoded data removed]"
          },
          "metadata": {
            "needs_background": "light"
          }
        }
      ]
    },
    {
      "cell_type": "code",
      "source": [
        "# Menjalankan Hierarchical Clustering ke dataset\n",
        "from sklearn.cluster import AgglomerativeClustering\n",
        "hc = AgglomerativeClustering(n_clusters = 3, affinity = 'euclidean', linkage = 'ward')\n",
        "y_hc = hc.fit_predict(X)\n"
      ],
      "metadata": {
        "id": "kv9MAXeiQ7_e"
      },
      "execution_count": 12,
      "outputs": []
    },
    {
      "cell_type": "code",
      "source": [
        "# Visualisasi hasil clusters\n",
        "plt.scatter(X[y_hc == 0, 0], X[y_hc == 0, 1], s = 100, c = 'blue', label = 'Cluster 1')\n",
        "plt.scatter(X[y_hc == 1, 0], X[y_hc == 1, 1], s = 100, c = 'orange', label = 'Cluster 2')\n",
        "plt.scatter(X[y_hc == 2, 0], X[y_hc == 2, 1], s = 100, c = 'green', label = 'Cluster 3')\n",
        "plt.title('Consumers Cluster')\n",
        "plt.xlabel('Pendapatan (juta Rp)')\n",
        "plt.ylabel('Rating_belanja (1-100)')\n",
        "plt.legend()\n",
        "plt.show()"
      ],
      "metadata": {
        "colab": {
          "base_uri": "https://localhost:8080/",
          "height": 295
        },
        "id": "paGIis2CQ-jQ",
        "outputId": "f594b230-97f2-474e-db68-8454267cb539"
      },
      "execution_count": 24,
      "outputs": [
        {
          "output_type": "display_data",
          "data": {
            "text/plain": [
              "<Figure size 432x288 with 1 Axes>"
            ],
            "image/png": "[encoded data removed]"
          },
          "metadata": {
            "needs_background": "light"
          }
        }
      ]
    },
    {
      "cell_type": "code",
      "source": [
        "data2 = pd.DataFrame(dataset, columns =['Usia', 'Rating_belanja (1-100)', 'Pendapatan (juta Rp)'])\n",
        "data2[\"Clusters\"] = y_hc\n",
        "\n",
        "data2.to_csv('DataDalamKlaster2.csv', index=False)\n",
        "\n",
        "data2.head()"
      ],
      "metadata": {
        "colab": {
          "base_uri": "https://localhost:8080/",
          "height": 206
        },
        "id": "sznNLgMhT9xi",
        "outputId": "33d0bc5f-9d7b-4ef8-889b-91b80f30be74"
      },
      "execution_count": 22,
      "outputs": [
        {
          "output_type": "execute_result",
          "data": {
            "text/plain": [
              "   Usia  Rating_belanja (1-100)  Pendapatan (juta Rp)  Clusters\n",
              "0    23                      87                    29         0\n",
              "1    60                       4                    30         0\n",
              "2    21                      73                    30         0\n",
              "3    53                       4                    33         0\n",
              "4    18                      92                    33         0"
            ],
            "text/html": [
              "\n",
              "  <div id=\"df-5f5470bf-7ff2-4e05-aaf9-9c91980f506b\">\n",
              "    <div class=\"colab-df-container\">\n",
              "      <div>\n",
              "<style scoped>\n",
              "    .dataframe tbody tr th:only-of-type {\n",
              "        vertical-align: middle;\n",
              "    }\n",
              "\n",
              "    .dataframe tbody tr th {\n",
              "        vertical-align: top;\n",
              "    }\n",
              "\n",
              "    .dataframe thead th {\n",
              "        text-align: right;\n",
              "    }\n",
              "</style>\n",
              "<table border=\"1\" class=\"dataframe\">\n",
              "  <thead>\n",
              "    <tr style=\"text-align: right;\">\n",
              "      <th></th>\n",
              "      <th>Usia</th>\n",
              "      <th>Rating_belanja (1-100)</th>\n",
              "      <th>Pendapatan (juta Rp)</th>\n",
              "      <th>Clusters</th>\n",
              "    </tr>\n",
              "  </thead>\n",
              "  <tbody>\n",
              "    <tr>\n",
              "      <th>0</th>\n",
              "      <td>23</td>\n",
              "      <td>87</td>\n",
              "      <td>29</td>\n",
              "      <td>0</td>\n",
              "    </tr>\n",
              "    <tr>\n",
              "      <th>1</th>\n",
              "      <td>60</td>\n",
              "      <td>4</td>\n",
              "      <td>30</td>\n",
              "      <td>0</td>\n",
              "    </tr>\n",
              "    <tr>\n",
              "      <th>2</th>\n",
              "      <td>21</td>\n",
              "      <td>73</td>\n",
              "      <td>30</td>\n",
              "      <td>0</td>\n",
              "    </tr>\n",
              "    <tr>\n",
              "      <th>3</th>\n",
              "      <td>53</td>\n",
              "      <td>4</td>\n",
              "      <td>33</td>\n",
              "      <td>0</td>\n",
              "    </tr>\n",
              "    <tr>\n",
              "      <th>4</th>\n",
              "      <td>18</td>\n",
              "      <td>92</td>\n",
              "      <td>33</td>\n",
              "      <td>0</td>\n",
              "    </tr>\n",
              "  </tbody>\n",
              "</table>\n",
              "</div>\n",
              "      <button class=\"colab-df-convert\" onclick=\"convertToInteractive('df-5f5470bf-7ff2-4e05-aaf9-9c91980f506b')\"\n",
              "              title=\"Convert this dataframe to an interactive table.\"\n",
              "              style=\"display:none;\">\n",
              "        \n",
              "  <svg xmlns=\"http://www.w3.org/2000/svg\" height=\"24px\"viewBox=\"0 0 24 24\"\n",
              "       width=\"24px\">\n",
              "    <path d=\"M0 0h24v24H0V0z\" fill=\"none\"/>\n",
              "    <path d=\"M18.56 5.44l.94 2.06.94-2.06 2.06-.94-2.06-.94-.94-2.06-.94 2.06-2.06.94zm-11 1L8.5 8.5l.94-2.06 2.06-.94-2.06-.94L8.5 2.5l-.94 2.06-2.06.94zm10 10l.94 2.06.94-2.06 2.06-.94-2.06-.94-.94-2.06-.94 2.06-2.06.94z\"/><path d=\"M17.41 7.96l-1.37-1.37c-.4-.4-.92-.59-1.43-.59-.52 0-1.04.2-1.43.59L10.3 9.45l-7.72 7.72c-.78.78-.78 2.05 0 2.83L4 21.41c.39.39.9.59 1.41.59.51 0 1.02-.2 1.41-.59l7.78-7.78 2.81-2.81c.8-.78.8-2.07 0-2.86zM5.41 20L4 18.59l7.72-7.72 1.47 1.35L5.41 20z\"/>\n",
              "  </svg>\n",
              "      </button>\n",
              "      \n",
              "  <style>\n",
              "    .colab-df-container {\n",
              "      display:flex;\n",
              "      flex-wrap:wrap;\n",
              "      gap: 12px;\n",
              "    }\n",
              "\n",
              "    .colab-df-convert {\n",
              "      background-color: #E8F0FE;\n",
              "      border: none;\n",
              "      border-radius: 50%;\n",
              "      cursor: pointer;\n",
              "      display: none;\n",
              "      fill: #1967D2;\n",
              "      height: 32px;\n",
              "      padding: 0 0 0 0;\n",
              "      width: 32px;\n",
              "    }\n",
              "\n",
              "    .colab-df-convert:hover {\n",
              "      background-color: #E2EBFA;\n",
              "      box-shadow: 0px 1px 2px rgba(60, 64, 67, 0.3), 0px 1px 3px 1px rgba(60, 64, 67, 0.15);\n",
              "      fill: #174EA6;\n",
              "    }\n",
              "\n",
              "    [theme=dark] .colab-df-convert {\n",
              "      background-color: #3B4455;\n",
              "      fill: #D2E3FC;\n",
              "    }\n",
              "\n",
              "    [theme=dark] .colab-df-convert:hover {\n",
              "      background-color: #434B5C;\n",
              "      box-shadow: 0px 1px 3px 1px rgba(0, 0, 0, 0.15);\n",
              "      filter: drop-shadow(0px 1px 2px rgba(0, 0, 0, 0.3));\n",
              "      fill: #FFFFFF;\n",
              "    }\n",
              "  </style>\n",
              "\n",
              "      <script>\n",
              "        const buttonEl =\n",
              "          document.querySelector('#df-5f5470bf-7ff2-4e05-aaf9-9c91980f506b button.colab-df-convert');\n",
              "        buttonEl.style.display =\n",
              "          google.colab.kernel.accessAllowed ? 'block' : 'none';\n",
              "\n",
              "        async function convertToInteractive(key) {\n",
              "          const element = document.querySelector('#df-5f5470bf-7ff2-4e05-aaf9-9c91980f506b');\n",
              "          const dataTable =\n",
              "            await google.colab.kernel.invokeFunction('convertToInteractive',\n",
              "                                                     [key], {});\n",
              "          if (!dataTable) return;\n",
              "\n",
              "          const docLinkHtml = 'Like what you see? Visit the ' +\n",
              "            '<a target=\"_blank\" href=https://colab.research.google.com/notebooks/data_table.ipynb>data table notebook</a>'\n",
              "            + ' to learn more about interactive tables.';\n",
              "          element.innerHTML = '';\n",
              "          dataTable['output_type'] = 'display_data';\n",
              "          await google.colab.output.renderOutput(dataTable, element);\n",
              "          const docLink = document.createElement('div');\n",
              "          docLink.innerHTML = docLinkHtml;\n",
              "          element.appendChild(docLink);\n",
              "        }\n",
              "      </script>\n",
              "    </div>\n",
              "  </div>\n",
              "  "
            ]
          },
          "metadata": {},
          "execution_count": 22
        }
      ]
    },
    {
      "cell_type": "code",
      "source": [
        "import seaborn as sns\n",
        "sns.countplot(data2[\"Clusters\"])\n",
        "data2['Clusters'].value_counts()"
      ],
      "metadata": {
        "colab": {
          "base_uri": "https://localhost:8080/",
          "height": 403
        },
        "id": "J8qxLLJtUAh4",
        "outputId": "76062bad-42a7-494e-cc72-e78a42f64103"
      },
      "execution_count": 29,
      "outputs": [
        {
          "output_type": "stream",
          "name": "stderr",
          "text": [
            "/usr/local/lib/python3.7/dist-packages/seaborn/_decorators.py:43: FutureWarning: Pass the following variable as a keyword arg: x. From version 0.12, the only valid positional argument will be `data`, and passing other arguments without an explicit keyword will result in an error or misinterpretation.\n",
            "  FutureWarning\n"
          ]
        },
        {
          "output_type": "execute_result",
          "data": {
            "text/plain": [
              "0    126\n",
              "2     39\n",
              "1     35\n",
              "Name: Clusters, dtype: int64"
            ]
          },
          "metadata": {},
          "execution_count": 29
        },
        {
          "output_type": "display_data",
          "data": {
            "text/plain": [
              "<Figure size 432x288 with 1 Axes>"
            ],
            "image/png": "[encoded data removed]"
          },
          "metadata": {
            "needs_background": "light"
          }
        }
      ]
    },
    {
      "cell_type": "markdown",
      "source": [
        "Klaster yang terbentuk menggunakan Hierarchical Clustering adalah 3 buah Klaster, antara lain Klaster Pertama (0 - Merah), Klaster Kedua (1 - Biru), dan Klaster Ketiga (2 - Hijau). Banyak anggota klaster kedua yang serupa dengan klaster pertama. Klaster yang cukup padat berkumpul dengan baik adalah Klaster ketiga dibandingkan kedua klaster lainnya. Bila dilihat dari isi data pada setiap klaster, terdapat beberapa hal yang menarik, antara lain:\n",
        "\n",
        "Klaster Ketiga adalah Klaster dengan kelompok konsumen yang memiliki rating belanja paling tinggi dengan rata-rata 82,13, sedangkan Klaster Pertama memiliki rating belanja rata-rata 49,5 dan Klaster Kedua adalah klaster yang paling kecil rating belanjanya yaitu sekitar 17,3.\n",
        "Namun, yang menarik adalah Klaster Kedua memiliki pendapatan rata-rata paling tinggi dibandingkan dua klaster lainnya, yaitu 88,23 juta, tetapi rating belanjanya paling rendah. Sedangkan Klaster pertama pendapatan rata-ratanya sekitar 44,83 dan Klaster ketiga memiliki pendapatan rata-rata 86,54 juta. Klaster ketiga cukup masuk akal dengan pendapatan yang cukup tinggi dan rating belanja yang tinggi pula. Namun, yang perlu dipertimbangkan disini adalah pada klaster kedua, apakah ada kemungkinan kebutuhan konsumen yang pendapatannya cukup tinggi tidak terpenuhi di Department Store tersebut? Karena tingkat belanjanya sangat rendah. Karena itu perlu ada strategi-strategi khusus untuk tipe konsumen yang seperti ini."
      ],
      "metadata": {
        "id": "acwybHc0Zr4Z"
      }
    },
    {
      "cell_type": "markdown",
      "source": [
        "# DBSCAN\n",
        "\n",
        "https://www.kdnuggets.com/2020/04/dbscan-clustering-algorithm-machine-learning.html\n",
        "\n",
        "https://becominghuman.ai/dbscan-clustering-algorithm-implementation-from-scratch-python-9950af5eed97\n",
        "\n",
        "https://www.analyticsvidhya.com/blog/2020/09/how-dbscan-clustering-works/\n"
      ],
      "metadata": {
        "id": "HO78a5JHZs2V"
      }
    },
    {
      "cell_type": "markdown",
      "source": [
        "## Spherical\n",
        "\n",
        "750 spherical training data points with corresponding labels. After that standardize the features of your training data and at last, apply DBSCAN from the sklearn library."
      ],
      "metadata": {
        "id": "2XEssZMsZxGL"
      }
    },
    {
      "cell_type": "code",
      "source": [
        "import numpy as np\n",
        "from sklearn.cluster import DBSCAN\n",
        "from sklearn import metrics\n",
        "from sklearn.datasets import make_blobs\n",
        "from sklearn.preprocessing import StandardScaler\n",
        "\n",
        "# Generate sample data\n",
        "centers = [[1, 1], [-1, -1], [1, -1]]\n",
        "X, labels_true = make_blobs(n_samples=750, centers=centers, cluster_std=0.4,\n",
        "                            random_state=0)\n",
        "\n",
        "X = StandardScaler().fit_transform(X)\n",
        "\n",
        "# Compute DBSCAN\n",
        "db = DBSCAN(eps=0.3, min_samples=10).fit(X)\n",
        "core_samples_mask = np.zeros_like(db.labels_, dtype=bool)\n",
        "core_samples_mask[db.core_sample_indices_] = True\n",
        "labels = db.labels_\n",
        "\n",
        "# Number of clusters in labels, ignoring noise if present.\n",
        "n_clusters_ = len(set(labels)) - (1 if -1 in labels else 0)\n",
        "n_noise_ = list(labels).count(-1)\n",
        "\n",
        "print('Estimated number of clusters: %d' % n_clusters_)\n",
        "print('Estimated number of noise points: %d' % n_noise_)\n",
        "print(\"Homogeneity: %0.3f\" % metrics.homogeneity_score(labels_true, labels))\n",
        "print(\"Completeness: %0.3f\" % metrics.completeness_score(labels_true, labels))\n",
        "print(\"V-measure: %0.3f\" % metrics.v_measure_score(labels_true, labels))\n",
        "print(\"Adjusted Rand Index: %0.3f\"\n",
        "      % metrics.adjusted_rand_score(labels_true, labels))\n",
        "print(\"Adjusted Mutual Information: %0.3f\"\n",
        "      % metrics.adjusted_mutual_info_score(labels_true, labels))\n",
        "print(\"Silhouette Coefficient: %0.3f\"\n",
        "      % metrics.silhouette_score(X, labels))\n",
        "\n",
        "# Plot result\n",
        "import matplotlib.pyplot as plt\n",
        "%matplotlib inline\n",
        "\n",
        "# Black removed and is used for noise instead.\n",
        "unique_labels = set(labels)\n",
        "colors = [plt.cm.Spectral(each)\n",
        "          for each in np.linspace(0, 1, len(unique_labels))]\n",
        "for k, col in zip(unique_labels, colors):\n",
        "    if k == -1:\n",
        "        # Black used for noise.\n",
        "        col = [0, 0, 0, 1]\n",
        "\n",
        "    class_member_mask = (labels == k)\n",
        "\n",
        "    xy = X[class_member_mask & core_samples_mask]\n",
        "    plt.plot(xy[:, 0], xy[:, 1], 'o', markerfacecolor=tuple(col),\n",
        "             markeredgecolor='k', markersize=14)\n",
        "\n",
        "    xy = X[class_member_mask & ~core_samples_mask]\n",
        "    plt.plot(xy[:, 0], xy[:, 1], 'o', markerfacecolor=tuple(col),\n",
        "             markeredgecolor='k', markersize=6)\n",
        "\n",
        "plt.title('Estimated number of clusters: %d' % n_clusters_)\n",
        "plt.show()"
      ],
      "metadata": {
        "colab": {
          "base_uri": "https://localhost:8080/",
          "height": 420
        },
        "id": "rz3oWaNHdn4X",
        "outputId": "02a8eeab-4c18-4640-8c6f-c8a360ee43a3"
      },
      "execution_count": 35,
      "outputs": [
        {
          "output_type": "stream",
          "name": "stdout",
          "text": [
            "Estimated number of clusters: 3\n",
            "Estimated number of noise points: 18\n",
            "Homogeneity: 0.953\n",
            "Completeness: 0.883\n",
            "V-measure: 0.917\n",
            "Adjusted Rand Index: 0.952\n",
            "Adjusted Mutual Information: 0.916\n",
            "Silhouette Coefficient: 0.626\n"
          ]
        },
        {
          "output_type": "display_data",
          "data": {
            "text/plain": [
              "<Figure size 432x288 with 1 Axes>"
            ],
            "image/png": "[encoded data removed]"
          },
          "metadata": {
            "needs_background": "light"
          }
        }
      ]
    },
    {
      "cell_type": "markdown",
      "source": [
        "## non-spherical"
      ],
      "metadata": {
        "id": "DIU1S6RDdxfW"
      }
    },
    {
      "cell_type": "code",
      "source": [
        "import numpy as np\n",
        "import matplotlib.pyplot as plt\n",
        "from sklearn import metrics\n",
        "from sklearn.datasets import make_circles\n",
        "from sklearn.preprocessing import StandardScaler\n",
        "from sklearn.cluster import DBSCAN\n",
        "X, y = make_circles(n_samples=750, factor=0.3, noise=0.1)\n",
        "X = StandardScaler().fit_transform(X)\n",
        "y_pred = DBSCAN(eps=0.3, min_samples=10).fit_predict(X)\n",
        "\n",
        "plt.scatter(X[:,0], X[:,1], c=y_pred)\n",
        "print('Number of clusters: {}'.format(len(set(y_pred[np.where(y_pred != -1)]))))\n",
        "print('Homogeneity: {}'.format(metrics.homogeneity_score(y, y_pred)))\n",
        "print('Completeness: {}'.format(metrics.completeness_score(y, y_pred)))\n",
        "print(\"V-measure: %0.3f\" % metrics.v_measure_score(labels_true, labels))\n",
        "print(\"Adjusted Rand Index: %0.3f\"\n",
        "      % metrics.adjusted_rand_score(labels_true, labels))\n",
        "print(\"Adjusted Mutual Information: %0.3f\"\n",
        "      % metrics.adjusted_mutual_info_score(labels_true, labels))\n",
        "print(\"Silhouette Coefficient: %0.3f\"\n",
        "      % metrics.silhouette_score(X, labels))"
      ],
      "metadata": {
        "colab": {
          "base_uri": "https://localhost:8080/",
          "height": 387
        },
        "id": "Kt63nYdEd9iY",
        "outputId": "1b549dc7-bf2e-4cb6-8bce-4e48b221d71a"
      },
      "execution_count": 36,
      "outputs": [
        {
          "output_type": "stream",
          "name": "stdout",
          "text": [
            "Number of clusters: 2\n",
            "Homogeneity: 1.0\n",
            "Completeness: 0.9591493437463376\n",
            "V-measure: 0.917\n",
            "Adjusted Rand Index: 0.952\n",
            "Adjusted Mutual Information: 0.916\n",
            "Silhouette Coefficient: -0.099\n"
          ]
        },
        {
          "output_type": "display_data",
          "data": {
            "text/plain": [
              "<Figure size 432x288 with 1 Axes>"
            ],
            "image/png": "[encoded data removed]"
          },
          "metadata": {
            "needs_background": "light"
          }
        }
      ]
    }
  ]
}